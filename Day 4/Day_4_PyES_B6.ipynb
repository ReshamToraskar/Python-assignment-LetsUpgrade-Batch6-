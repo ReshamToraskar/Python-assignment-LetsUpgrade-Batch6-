{
  "nbformat": 4,
  "nbformat_minor": 0,
  "metadata": {
    "colab": {
      "name": "Day 4 PyES B6.ipynb",
      "provenance": [],
      "collapsed_sections": []
    },
    "kernelspec": {
      "name": "python3",
      "display_name": "Python 3"
    }
  },
  "cells": [
    {
      "cell_type": "markdown",
      "metadata": {
        "id": "QL-wc4Zk8pDs",
        "colab_type": "text"
      },
      "source": [
        "Q1: **Find all occurrence of substring in the given string and print index values**\n",
        "\n",
        "\n",
        "Given string is: \"What we think we become; we are Python Programmer\""
      ]
    },
    {
      "cell_type": "code",
      "metadata": {
        "id": "spGX6KeM9Mbp",
        "colab_type": "code",
        "colab": {
          "base_uri": "https://localhost:8080/",
          "height": 68
        },
        "outputId": "fa4da084-2dcb-4524-cf47-10ce17aa212b"
      },
      "source": [
        "string = \"What we think we become; we are Python Programmer\"\n",
        "a = string.count(\"we\") \n",
        "first = string.find(\"we\")\n",
        "print(\"Number of times the substring (we) occurs is:\", a)\n",
        "print(\"The first occurrence of (we) is: \", first)\n",
        "b = \"we\"\n",
        "d = [] \n",
        "flag = 0\n",
        "k = 0\n",
        "for i in range(0, len(string)): \n",
        "    k = i \n",
        "    flag = 0\n",
        "    for j in range(0, len(b)): \n",
        "        if string[k] != b[j]: \n",
        "            flag = 1\n",
        "        if flag: \n",
        "            break\n",
        "        k = k + 1\n",
        "    if flag == 0: \n",
        "        d.append(i) \n",
        "print(\"Positions at which (we) occurs are: \", str(d))   "
      ],
      "execution_count": 46,
      "outputs": [
        {
          "output_type": "stream",
          "text": [
            "Number of times the substring (we) occurs is: 3\n",
            "The first occurrence of (we) is:  5\n",
            "Positions at which (we) occurs are:  [5, 14, 25]\n"
          ],
          "name": "stdout"
        }
      ]
    },
    {
      "cell_type": "markdown",
      "metadata": {
        "id": "C-t8JvQvFcyG",
        "colab_type": "text"
      },
      "source": [
        "Q2: **Use islower(), isUpper() with diffrent kind of strings**"
      ]
    },
    {
      "cell_type": "code",
      "metadata": {
        "id": "e1dTio4aFq-a",
        "colab_type": "code",
        "colab": {
          "base_uri": "https://localhost:8080/",
          "height": 68
        },
        "outputId": "0e96e9f0-41bc-4c18-9a45-fc7806f8e9a7"
      },
      "source": [
        "str1 = input(\"Enter a string: \")\n",
        "print(str1)\n",
        "a = str1.islower()\n",
        "print(\"is the entered string in lowercase?: \", a)"
      ],
      "execution_count": 31,
      "outputs": [
        {
          "output_type": "stream",
          "text": [
            "Enter a string: hi all how are you\n",
            "hi all how are you\n",
            "is the entered string in lowercase?:  True\n"
          ],
          "name": "stdout"
        }
      ]
    },
    {
      "cell_type": "code",
      "metadata": {
        "id": "B2rloHgmGKgK",
        "colab_type": "code",
        "colab": {
          "base_uri": "https://localhost:8080/",
          "height": 68
        },
        "outputId": "3a4244f4-e928-4395-aaaa-942813d0f818"
      },
      "source": [
        "str2 = input(\"Enter a string: \")\n",
        "print(str2)\n",
        "a = str2.islower()\n",
        "print(\"is the entered string in lowercase?: \", a)"
      ],
      "execution_count": 32,
      "outputs": [
        {
          "output_type": "stream",
          "text": [
            "Enter a string: Hello hi How are You\n",
            "Hello hi How are You\n",
            "is the entered string in lowercase?:  False\n"
          ],
          "name": "stdout"
        }
      ]
    },
    {
      "cell_type": "code",
      "metadata": {
        "id": "ATf22dFbGRoa",
        "colab_type": "code",
        "colab": {
          "base_uri": "https://localhost:8080/",
          "height": 68
        },
        "outputId": "4a81c990-6845-460b-9e14-7c1bb8d8cffc"
      },
      "source": [
        "str3 = input(\"Enter a string: \")\n",
        "print(str3)\n",
        "a = str3.isupper()\n",
        "print(\"is the entered string in uppercase?: \", a)"
      ],
      "execution_count": 33,
      "outputs": [
        {
          "output_type": "stream",
          "text": [
            "Enter a string: hi 1234 Hello all\n",
            "hi 1234 Hello all\n",
            "is the entered string in uppercase?:  False\n"
          ],
          "name": "stdout"
        }
      ]
    },
    {
      "cell_type": "code",
      "metadata": {
        "id": "IoY0LSkgGaHi",
        "colab_type": "code",
        "colab": {
          "base_uri": "https://localhost:8080/",
          "height": 68
        },
        "outputId": "7c0d8438-935e-4a70-c0b1-1300a08570ff"
      },
      "source": [
        "str4 = input(\"Enter a string: \")\n",
        "print(str4)\n",
        "a = str4.isupper()\n",
        "print(\"is the entered string in uppercase?: \", a)"
      ],
      "execution_count": 35,
      "outputs": [
        {
          "output_type": "stream",
          "text": [
            "Enter a string: HELLO WHAT'S UP\n",
            "HELLO WHAT'S UP\n",
            "is the entered string in uppercase?:  True\n"
          ],
          "name": "stdout"
        }
      ]
    }
  ]
}