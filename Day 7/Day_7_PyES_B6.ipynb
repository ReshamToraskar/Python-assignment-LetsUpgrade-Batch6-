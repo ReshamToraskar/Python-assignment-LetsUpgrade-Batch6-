{
  "nbformat": 4,
  "nbformat_minor": 0,
  "metadata": {
    "colab": {
      "name": "Day 7 PyES B6.ipynb",
      "provenance": [],
      "collapsed_sections": []
    },
    "kernelspec": {
      "name": "python3",
      "display_name": "Python 3"
    }
  },
  "cells": [
    {
      "cell_type": "markdown",
      "metadata": {
        "id": "zTkMk0t2qKeu",
        "colab_type": "text"
      },
      "source": [
        "**Assignemnt :1**\n",
        "  Use the dictionary, port1 = {21: \"FTP\", 22:\"SSH\", 23: \"telnet\", 80: \"http\"}, and make a new dictionary in which keys become values and values become keys, as shown: Port2 = {“FTP\":21, \"SSH\":22, “telnet\":23,\n",
        "\"http\": 80}\n"
      ]
    },
    {
      "cell_type": "code",
      "metadata": {
        "id": "DR5wrIIaCNeD",
        "colab_type": "code",
        "colab": {
          "base_uri": "https://localhost:8080/",
          "height": 51
        },
        "outputId": "4b0d35b4-0e5a-4fa7-b0b0-e77e76d5aee4"
      },
      "source": [
        "port1 = {21:\"FTP\", 22:\"SSH\", 23:\"telnet\",80:\"http\"} \n",
        "print(\"Original dictionary is : \",port1) \n",
        "port2={}\n",
        "for k,v in port1.items():\n",
        "    port2[v]=k\n",
        "print(\"Dictionary after swapping the keys and values is: \",port2)"
      ],
      "execution_count": 30,
      "outputs": [
        {
          "output_type": "stream",
          "text": [
            "Original dictionary is :  {21: 'FTP', 22: 'SSH', 23: 'telnet', 80: 'http'}\n",
            "Dictionary after swapping the keys and values is:  {'FTP': 21, 'SSH': 22, 'telnet': 23, 'http': 80}\n"
          ],
          "name": "stdout"
        }
      ]
    },
    {
      "cell_type": "markdown",
      "metadata": {
        "id": "LI4QH6jNqNC7",
        "colab_type": "text"
      },
      "source": [
        "**Assignment 2:**\n",
        "Take a list of tuple as shown below.\n",
        "[(1,2), (3,4), (5,6),(4,5)]\n",
        "Make a new list which contains sum of number of tuples. \n",
        "For example \n",
        "Input \n",
        "[(1,2), (3,4), (5,6)]\n",
        "Out put \n",
        "[3, 7, 11]"
      ]
    },
    {
      "cell_type": "code",
      "metadata": {
        "id": "hy9-2tiB_RRJ",
        "colab_type": "code",
        "colab": {
          "base_uri": "https://localhost:8080/",
          "height": 34
        },
        "outputId": "ead6bf57-39c4-43c5-86f4-910d9c9880bc"
      },
      "source": [
        "\n",
        "list1=[(1,2),(3,4),(5,6),(4,5)]\n",
        "list2=[]\n",
        "for i in list1:\n",
        "    list2.append(i[0]+i[1])\n",
        "    \n",
        "print(\"Sum of numbers of tuples is: \",list2)"
      ],
      "execution_count": 11,
      "outputs": [
        {
          "output_type": "stream",
          "text": [
            "Sum of numbers of tuples is:  [3, 7, 11, 9]\n"
          ],
          "name": "stdout"
        }
      ]
    },
    {
      "cell_type": "markdown",
      "metadata": {
        "id": "e71lfi-eqUxx",
        "colab_type": "text"
      },
      "source": [
        "**Assignment 3:**\n",
        "\n",
        "Take a list as shown below \n",
        "[(1,2,3), [1,2], ['a','hit','less']]\n",
        "The List contains tuple and lists. Make the elements of inner lists and tuples to outer list"
      ]
    },
    {
      "cell_type": "code",
      "metadata": {
        "id": "RVReT9rQ_rav",
        "colab_type": "code",
        "colab": {
          "base_uri": "https://localhost:8080/",
          "height": 85
        },
        "outputId": "e3fa71e0-0ae4-48be-b68f-69e9c281bce8"
      },
      "source": [
        "l1 = [(1,2,3),(1,2),['a','hit','less']]\n",
        "print(\"The first element is of type: \",type(l1[0]))\n",
        "print(\"The second element is of type: \",type(l1[1]))\n",
        "print(\"The third element is of type: \",type(l1[2]))\n",
        "outer_list= [item for t in l1 for item in t]\n",
        "print(out)"
      ],
      "execution_count": 26,
      "outputs": [
        {
          "output_type": "stream",
          "text": [
            "The first element is of type:  <class 'tuple'>\n",
            "The second element is of type:  <class 'tuple'>\n",
            "The third element is of type:  <class 'list'>\n",
            "[1, 2, 3, 1, 2, 'a', 'hit', 'less']\n"
          ],
          "name": "stdout"
        }
      ]
    }
  ]
}