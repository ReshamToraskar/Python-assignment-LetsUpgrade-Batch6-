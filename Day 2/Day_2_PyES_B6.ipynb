{
  "nbformat": 4,
  "nbformat_minor": 0,
  "metadata": {
    "colab": {
      "name": "Day 2 PyES B6.ipynb",
      "provenance": [],
      "collapsed_sections": []
    },
    "kernelspec": {
      "name": "python3",
      "display_name": "Python 3"
    }
  },
  "cells": [
    {
      "cell_type": "markdown",
      "metadata": {
        "id": "s4gW9kYrLI1r",
        "colab_type": "text"
      },
      "source": [
        "**Basic Syntax**"
      ]
    },
    {
      "cell_type": "code",
      "metadata": {
        "id": "RKXP9TciLQtf",
        "colab_type": "code",
        "colab": {
          "base_uri": "https://localhost:8080/",
          "height": 34
        },
        "outputId": "daa4bd31-7f3b-49b1-8e64-a5f29196f0b6"
      },
      "source": [
        "print(\"Hello Python\")"
      ],
      "execution_count": 1,
      "outputs": [
        {
          "output_type": "stream",
          "text": [
            "Hello Python\n"
          ],
          "name": "stdout"
        }
      ]
    },
    {
      "cell_type": "code",
      "metadata": {
        "id": "sePci5odLxrQ",
        "colab_type": "code",
        "colab": {
          "base_uri": "https://localhost:8080/",
          "height": 34
        },
        "outputId": "c8f995b9-9c5e-4d8b-91e5-fe8255635043"
      },
      "source": [
        "print(\"Hello \\\n",
        "        python\")"
      ],
      "execution_count": 2,
      "outputs": [
        {
          "output_type": "stream",
          "text": [
            "Hello         python\n"
          ],
          "name": "stdout"
        }
      ]
    },
    {
      "cell_type": "code",
      "metadata": {
        "id": "9zyFExERNHZk",
        "colab_type": "code",
        "colab": {
          "base_uri": "https://localhost:8080/",
          "height": 34
        },
        "outputId": "e127a29b-6696-4837-a66d-1bcfe103aa92"
      },
      "source": [
        "print(\"\"\"   Hello all \"\"\")"
      ],
      "execution_count": 3,
      "outputs": [
        {
          "output_type": "stream",
          "text": [
            "   Hello all \n"
          ],
          "name": "stdout"
        }
      ]
    },
    {
      "cell_type": "code",
      "metadata": {
        "id": "VGqTp5JdNgMl",
        "colab_type": "code",
        "colab": {
          "base_uri": "https://localhost:8080/",
          "height": 68
        },
        "outputId": "4ed35bbe-1beb-4460-a3a3-94469508bbf4"
      },
      "source": [
        "print(\"\"\" (\".\")\n",
        "\"<)?(>\"\n",
        "_/\"\"\\_ \"\"\")"
      ],
      "execution_count": 4,
      "outputs": [
        {
          "output_type": "stream",
          "text": [
            " (\".\")\n",
            "\"<)?(>\"\n",
            "_/\"\"\\_ \n"
          ],
          "name": "stdout"
        }
      ]
    },
    {
      "cell_type": "code",
      "metadata": {
        "id": "2ThWMLT2Ntrw",
        "colab_type": "code",
        "colab": {
          "base_uri": "https://localhost:8080/",
          "height": 34
        },
        "outputId": "e785d17a-01c1-4ae8-88a7-48e06d8897c6"
      },
      "source": [
        "print(\"python's easy to learn\")"
      ],
      "execution_count": 5,
      "outputs": [
        {
          "output_type": "stream",
          "text": [
            "python's easy to learn\n"
          ],
          "name": "stdout"
        }
      ]
    },
    {
      "cell_type": "code",
      "metadata": {
        "id": "tYLsJCMYOxcD",
        "colab_type": "code",
        "colab": {
          "base_uri": "https://localhost:8080/",
          "height": 34
        },
        "outputId": "c26e1301-f536-4ca5-c3c3-f2f6f3e84811"
      },
      "source": [
        "print('pepper\\'s is hot')"
      ],
      "execution_count": 8,
      "outputs": [
        {
          "output_type": "stream",
          "text": [
            "pepper's is hot\n"
          ],
          "name": "stdout"
        }
      ]
    },
    {
      "cell_type": "code",
      "metadata": {
        "id": "U1o5x-p1Ocwq",
        "colab_type": "code",
        "colab": {
          "base_uri": "https://localhost:8080/",
          "height": 34
        },
        "outputId": "ff2063a7-0b6d-45b5-fd89-42f8501822e3"
      },
      "source": [
        "print(\"learning\\tpython\")"
      ],
      "execution_count": 6,
      "outputs": [
        {
          "output_type": "stream",
          "text": [
            "learning\tpython\n"
          ],
          "name": "stdout"
        }
      ]
    },
    {
      "cell_type": "code",
      "metadata": {
        "id": "bPrLsqQCOh0k",
        "colab_type": "code",
        "colab": {
          "base_uri": "https://localhost:8080/",
          "height": 68
        },
        "outputId": "4c9222c0-8c9e-4e8e-f475-c9fd06b6108d"
      },
      "source": [
        "print(\"what\\nis\\nhappening\")"
      ],
      "execution_count": 7,
      "outputs": [
        {
          "output_type": "stream",
          "text": [
            "what\n",
            "is\n",
            "happening\n"
          ],
          "name": "stdout"
        }
      ]
    },
    {
      "cell_type": "code",
      "metadata": {
        "id": "09X3Lo29PZAL",
        "colab_type": "code",
        "colab": {
          "base_uri": "https://localhost:8080/",
          "height": 34
        },
        "outputId": "62f0d5b7-5b3b-40fb-8385-1a866ce09526"
      },
      "source": [
        "name = \"Jonas kahnwald\"\n",
        "age = \"18\"\n",
        "saying = \"The beginning is the end\"\n",
        "print(\"A boy named\", name, \"aged\", age, \"says that he is a timetravellar and keeps on saying\", saying)"
      ],
      "execution_count": 9,
      "outputs": [
        {
          "output_type": "stream",
          "text": [
            "A boy named Jonas kahnwald aged 18 says that he is a timetravellar and keeps on saying The beginning is the end\n"
          ],
          "name": "stdout"
        }
      ]
    },
    {
      "cell_type": "code",
      "metadata": {
        "id": "YLULHqJSQHZx",
        "colab_type": "code",
        "colab": {
          "base_uri": "https://localhost:8080/",
          "height": 34
        },
        "outputId": "1bb28572-9eb0-4f0d-98e6-7da38786367e"
      },
      "source": [
        "name = \"Martha nielsen\"\n",
        "mortality = 89.32\n",
        "age = 18\n",
        "print(\"A girl named %s, has mortality rate of %f and is only %d years old\"%(name,mortality,age))"
      ],
      "execution_count": 11,
      "outputs": [
        {
          "output_type": "stream",
          "text": [
            "A girl named Martha nielsen, has mortality rate of 89.320000 and is only 18 years old\n"
          ],
          "name": "stdout"
        }
      ]
    },
    {
      "cell_type": "code",
      "metadata": {
        "id": "dPBbdZDyRHxn",
        "colab_type": "code",
        "colab": {
          "base_uri": "https://localhost:8080/",
          "height": 51
        },
        "outputId": "a4c77923-d433-4c72-b879-8d969f7a1bb2"
      },
      "source": [
        "name = \"Martha nielsen\"\n",
        "mortality = 89.32\n",
        "age = 18\n",
        "print(\"A girl named %25s has mortality rate of %10.2f and is only %10d years old\"%(name,mortality,age))\n",
        "print(f\"A girl named {name} has mortality rate of {mortality} and is only {age} years old \")"
      ],
      "execution_count": 16,
      "outputs": [
        {
          "output_type": "stream",
          "text": [
            "A girl named            Martha nielsen has mortality rate of      89.32 and is only         18 years old\n",
            "A girl named Martha nielsen has mortality rate of 89.32 and is only 18 years old \n"
          ],
          "name": "stdout"
        }
      ]
    },
    {
      "cell_type": "markdown",
      "metadata": {
        "id": "C6L6lld8S11g",
        "colab_type": "text"
      },
      "source": [
        "**Python Variables**"
      ]
    },
    {
      "cell_type": "code",
      "metadata": {
        "id": "TctCNsZMS57C",
        "colab_type": "code",
        "colab": {
          "base_uri": "https://localhost:8080/",
          "height": 68
        },
        "outputId": "0e884f51-9cf2-4383-9a50-5a21f84c473d"
      },
      "source": [
        "if1 = 10\n",
        "print(if1)\n",
        "_20 = 6\n",
        "print(_20)\n",
        "red_24 = \"resham\"\n",
        "print(red_24)"
      ],
      "execution_count": 18,
      "outputs": [
        {
          "output_type": "stream",
          "text": [
            "10\n",
            "6\n",
            "resham\n"
          ],
          "name": "stdout"
        }
      ]
    },
    {
      "cell_type": "markdown",
      "metadata": {
        "id": "E-E_6uJ5VAPH",
        "colab_type": "text"
      },
      "source": [
        "**Python Assignment Statement**"
      ]
    },
    {
      "cell_type": "code",
      "metadata": {
        "id": "Rsm_9RKjVDci",
        "colab_type": "code",
        "colab": {
          "base_uri": "https://localhost:8080/",
          "height": 68
        },
        "outputId": "c47d66f0-563f-4549-b1d9-db7d6395ca5c"
      },
      "source": [
        "x =  20\n",
        "print(\"RAM address of x is\",id(x))\n",
        "y = 20\n",
        "print(\"RAM address of x is\",id(y))\n",
        "x = y = z =15\n",
        "print(x,y,z)"
      ],
      "execution_count": 23,
      "outputs": [
        {
          "output_type": "stream",
          "text": [
            "RAM address of x is 10915104\n",
            "RAM address of x is 10915104\n",
            "15 15 15\n"
          ],
          "name": "stdout"
        }
      ]
    },
    {
      "cell_type": "markdown",
      "metadata": {
        "id": "s-4Xn9P3Vpvt",
        "colab_type": "text"
      },
      "source": [
        "**Types of operators**"
      ]
    },
    {
      "cell_type": "markdown",
      "metadata": {
        "id": "QVuM2RlmWY8u",
        "colab_type": "text"
      },
      "source": [
        "Arithmetic operators"
      ]
    },
    {
      "cell_type": "code",
      "metadata": {
        "id": "B39x9mgnVuM1",
        "colab_type": "code",
        "colab": {
          "base_uri": "https://localhost:8080/",
          "height": 119
        },
        "outputId": "8172316a-8124-42e4-e810-1a54cd5dc244"
      },
      "source": [
        "x = 6**6\n",
        "print(x)\n",
        "_x = 100+125\n",
        "print(_x)\n",
        "_a = 1234-2344\n",
        "print(_a)\n",
        "a_b = 10/2\n",
        "print(a_b)\n",
        "x_y = 100/3\n",
        "print(x_y)\n",
        "ab = 50//4\n",
        "print(ab)"
      ],
      "execution_count": 25,
      "outputs": [
        {
          "output_type": "stream",
          "text": [
            "46656\n",
            "225\n",
            "-1110\n",
            "5.0\n",
            "33.333333333333336\n",
            "12\n"
          ],
          "name": "stdout"
        }
      ]
    },
    {
      "cell_type": "markdown",
      "metadata": {
        "id": "CsMVymD4Wb7d",
        "colab_type": "text"
      },
      "source": [
        "Comparison Operator"
      ]
    },
    {
      "cell_type": "code",
      "metadata": {
        "id": "C48fL2cGWev1",
        "colab_type": "code",
        "colab": {
          "base_uri": "https://localhost:8080/",
          "height": 34
        },
        "outputId": "3f6b8b6d-7af7-43d8-afae-a22aa620267a"
      },
      "source": [
        "_a = 50\n",
        "_b = 70\n",
        "_a == _b"
      ],
      "execution_count": 26,
      "outputs": [
        {
          "output_type": "execute_result",
          "data": {
            "text/plain": [
              "False"
            ]
          },
          "metadata": {
            "tags": []
          },
          "execution_count": 26
        }
      ]
    },
    {
      "cell_type": "code",
      "metadata": {
        "id": "NOCtcgLNWmwl",
        "colab_type": "code",
        "colab": {
          "base_uri": "https://localhost:8080/",
          "height": 34
        },
        "outputId": "cdfe24cc-692a-40ed-8da0-3f2db0d64919"
      },
      "source": [
        "x = 20\n",
        "y = 20\n",
        "x ==y"
      ],
      "execution_count": 27,
      "outputs": [
        {
          "output_type": "execute_result",
          "data": {
            "text/plain": [
              "True"
            ]
          },
          "metadata": {
            "tags": []
          },
          "execution_count": 27
        }
      ]
    },
    {
      "cell_type": "code",
      "metadata": {
        "id": "6Q2Rg_6UWwlj",
        "colab_type": "code",
        "colab": {
          "base_uri": "https://localhost:8080/",
          "height": 34
        },
        "outputId": "2f272cf1-aa5e-48c6-ca9e-71b7f821e648"
      },
      "source": [
        "x !=y"
      ],
      "execution_count": 28,
      "outputs": [
        {
          "output_type": "execute_result",
          "data": {
            "text/plain": [
              "False"
            ]
          },
          "metadata": {
            "tags": []
          },
          "execution_count": 28
        }
      ]
    },
    {
      "cell_type": "code",
      "metadata": {
        "id": "AlvwYtwKWzcF",
        "colab_type": "code",
        "colab": {
          "base_uri": "https://localhost:8080/",
          "height": 34
        },
        "outputId": "739a83d3-2bd5-4d90-85d1-913e812efb91"
      },
      "source": [
        "x >= y"
      ],
      "execution_count": 29,
      "outputs": [
        {
          "output_type": "execute_result",
          "data": {
            "text/plain": [
              "True"
            ]
          },
          "metadata": {
            "tags": []
          },
          "execution_count": 29
        }
      ]
    },
    {
      "cell_type": "code",
      "metadata": {
        "id": "TCGelmXUW3Lj",
        "colab_type": "code",
        "colab": {
          "base_uri": "https://localhost:8080/",
          "height": 34
        },
        "outputId": "30674baa-4f7d-48ff-cf14-5a37470d7d84"
      },
      "source": [
        "x <= y"
      ],
      "execution_count": 30,
      "outputs": [
        {
          "output_type": "execute_result",
          "data": {
            "text/plain": [
              "True"
            ]
          },
          "metadata": {
            "tags": []
          },
          "execution_count": 30
        }
      ]
    },
    {
      "cell_type": "markdown",
      "metadata": {
        "id": "400Y3_pRW9Q9",
        "colab_type": "text"
      },
      "source": [
        "Assignment operators"
      ]
    },
    {
      "cell_type": "code",
      "metadata": {
        "id": "reXl_lDpW_vM",
        "colab_type": "code",
        "colab": {
          "base_uri": "https://localhost:8080/",
          "height": 102
        },
        "outputId": "043945ab-d757-4c2e-ffae-aeb1129bfd2a"
      },
      "source": [
        "a = 10\n",
        "b = 25\n",
        "a+=b\n",
        "print(a)\n",
        "a-=b\n",
        "print(a)\n",
        "a*=b\n",
        "print(a)\n",
        "a/=b\n",
        "print(a)\n",
        "a**=b\n",
        "print(a)"
      ],
      "execution_count": 49,
      "outputs": [
        {
          "output_type": "stream",
          "text": [
            "35\n",
            "10\n",
            "250\n",
            "10.0\n",
            "1e+25\n"
          ],
          "name": "stdout"
        }
      ]
    },
    {
      "cell_type": "markdown",
      "metadata": {
        "id": "1VXnzJhFXzMQ",
        "colab_type": "text"
      },
      "source": [
        "Bitwise operator"
      ]
    },
    {
      "cell_type": "code",
      "metadata": {
        "id": "zm-kcollX097",
        "colab_type": "code",
        "colab": {
          "base_uri": "https://localhost:8080/",
          "height": 68
        },
        "outputId": "3f1da3b1-5698-40a6-9d9d-e457a229393d"
      },
      "source": [
        "a = 12\n",
        "b = 1\n",
        "print(a | b)\n",
        "print(a>13 or 12>10)\n",
        "a>13 and 12>20"
      ],
      "execution_count": 40,
      "outputs": [
        {
          "output_type": "stream",
          "text": [
            "13\n",
            "True\n"
          ],
          "name": "stdout"
        },
        {
          "output_type": "execute_result",
          "data": {
            "text/plain": [
              "False"
            ]
          },
          "metadata": {
            "tags": []
          },
          "execution_count": 40
        }
      ]
    },
    {
      "cell_type": "markdown",
      "metadata": {
        "id": "94g7l5k0YZRb",
        "colab_type": "text"
      },
      "source": [
        "Membership operator"
      ]
    },
    {
      "cell_type": "code",
      "metadata": {
        "id": "LxMxsWDZYcJ8",
        "colab_type": "code",
        "colab": {
          "base_uri": "https://localhost:8080/",
          "height": 51
        },
        "outputId": "f8546d7b-e7e0-4f85-cc84-279df3f45007"
      },
      "source": [
        "a = \"Resham Toraskar\"\n",
        "print(\"s\" in a)\n",
        "print(\"y\" in a)"
      ],
      "execution_count": 44,
      "outputs": [
        {
          "output_type": "stream",
          "text": [
            "True\n",
            "False\n"
          ],
          "name": "stdout"
        }
      ]
    },
    {
      "cell_type": "code",
      "metadata": {
        "id": "Suy2jv-VY0K4",
        "colab_type": "code",
        "colab": {
          "base_uri": "https://localhost:8080/",
          "height": 34
        },
        "outputId": "78f53d18-6b60-47f8-a1df-eccd1d3dd818"
      },
      "source": [
        "a = 15\n",
        "b = 25\n",
        "a is b"
      ],
      "execution_count": 45,
      "outputs": [
        {
          "output_type": "execute_result",
          "data": {
            "text/plain": [
              "False"
            ]
          },
          "metadata": {
            "tags": []
          },
          "execution_count": 45
        }
      ]
    },
    {
      "cell_type": "markdown",
      "metadata": {
        "id": "4V3I04MbZAtm",
        "colab_type": "text"
      },
      "source": [
        "Operator Precedence"
      ]
    },
    {
      "cell_type": "code",
      "metadata": {
        "id": "az5A42H7ZC3h",
        "colab_type": "code",
        "colab": {
          "base_uri": "https://localhost:8080/",
          "height": 34
        },
        "outputId": "431b185a-8a05-4b86-c745-682425ae1336"
      },
      "source": [
        "25+34/17*3"
      ],
      "execution_count": 46,
      "outputs": [
        {
          "output_type": "execute_result",
          "data": {
            "text/plain": [
              "31.0"
            ]
          },
          "metadata": {
            "tags": []
          },
          "execution_count": 46
        }
      ]
    }
  ]
}