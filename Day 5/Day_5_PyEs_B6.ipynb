{
  "nbformat": 4,
  "nbformat_minor": 0,
  "metadata": {
    "colab": {
      "name": "Day 5 PyEs B6.ipynb",
      "provenance": [],
      "collapsed_sections": []
    },
    "kernelspec": {
      "name": "python3",
      "display_name": "Python 3"
    }
  },
  "cells": [
    {
      "cell_type": "markdown",
      "metadata": {
        "id": "dyddBCjsbIfx",
        "colab_type": "text"
      },
      "source": [
        "**Assignment 1 \n",
        "take the this list [0,1,2,10,4,1,0,56,2,0,1,3,0,56,0,4]\n",
        "Use the sort method \n",
        "Sort in increasing order but all zeros should be at right-hand side**"
      ]
    },
    {
      "cell_type": "code",
      "metadata": {
        "id": "QRVGfKhQbOeS",
        "colab_type": "code",
        "colab": {
          "base_uri": "https://localhost:8080/",
          "height": 51
        },
        "outputId": "c7538169-9406-4a75-9725-abee9a6d9e13"
      },
      "source": [
        "l1 = [0,1,2,10,4,1,0,56,2,0,1,3,0,56,0,4]\n",
        "l1.sort()\n",
        "print(\"The sorted list is: \",l1)\n",
        "for item in l1[:]:\n",
        "    if item == 0:\n",
        "        l1.remove(item)\n",
        "##to get zeros on right hand side\n",
        "l2 = [0,0,0,0,0]\n",
        "l1.extend(l2)\n",
        "print(\"The sorted list with zeros at the right hand side is: \",l1)\n"
      ],
      "execution_count": 53,
      "outputs": [
        {
          "output_type": "stream",
          "text": [
            "The sorted list is:  [0, 0, 0, 0, 0, 1, 1, 1, 2, 2, 3, 4, 4, 10, 56, 56]\n",
            "The sorted list with zeros at the right hand side is:  [1, 1, 1, 2, 2, 3, 4, 4, 10, 56, 56, 0, 0, 0, 0, 0]\n"
          ],
          "name": "stdout"
        }
      ]
    },
    {
      "cell_type": "markdown",
      "metadata": {
        "id": "zLiV7-KqbQdl",
        "colab_type": "text"
      },
      "source": [
        "**Assignment 2 \n",
        "list1 = [10,20,40,60,70,80]  sorted list \n",
        "list2 = [5,15,25,35,45,60]  sorted list \n",
        "merge these two sorted lists produce one sorted list, but use only one loop either while or for but only one time; don't use the sort method**"
      ]
    },
    {
      "cell_type": "code",
      "metadata": {
        "id": "R3xjRVeOkIx7",
        "colab_type": "code",
        "colab": {
          "base_uri": "https://localhost:8080/",
          "height": 51
        },
        "outputId": "f070a78f-4cbe-4b0c-d8f8-3107700ddb26"
      },
      "source": [
        "list1 = [10,20,40,60,70,80] \n",
        "list2 = [5,15,25,35,45,60]\n",
        "list1.extend(list2)\n",
        "print(\"Merged list is: \",list1)\n",
        "sorted_list = []\n",
        "while list1:\n",
        "    minimum = list1[0]\n",
        "    for item in list1:\n",
        "        if item < minimum:\n",
        "            minimum = item\n",
        "    sorted_list.append(minimum)\n",
        "    list1.remove(minimum)\n",
        "print(sorted_list)\n"
      ],
      "execution_count": 51,
      "outputs": [
        {
          "output_type": "stream",
          "text": [
            "Merged list is:  [10, 20, 40, 60, 70, 80, 5, 15, 25, 35, 45, 60]\n",
            "[5, 10, 15, 20, 25, 35, 40, 45, 60, 60, 70, 80]\n"
          ],
          "name": "stdout"
        }
      ]
    }
  ]
}