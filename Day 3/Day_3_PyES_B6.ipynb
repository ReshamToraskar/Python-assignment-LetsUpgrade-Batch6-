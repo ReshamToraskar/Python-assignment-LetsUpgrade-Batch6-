{
  "nbformat": 4,
  "nbformat_minor": 0,
  "metadata": {
    "colab": {
      "name": "Day 3 PyES B6",
      "provenance": [],
      "collapsed_sections": []
    },
    "kernelspec": {
      "name": "python3",
      "display_name": "Python 3"
    }
  },
  "cells": [
    {
      "cell_type": "markdown",
      "metadata": {
        "id": "nYguDGAUFXwp",
        "colab_type": "text"
      },
      "source": [
        "Q1 : **Sum of n numbers with the help of while loop**"
      ]
    },
    {
      "cell_type": "code",
      "metadata": {
        "id": "I3VbGg08FtVH",
        "colab_type": "code",
        "colab": {
          "base_uri": "https://localhost:8080/",
          "height": 68
        },
        "outputId": "07fe07ae-cc61-49e9-eb0a-b8f1035d0a46"
      },
      "source": [
        "n = int(input(\"Enter the value of n: \"))  \n",
        "print(n)\n",
        "sum=0\n",
        "while (n > 0):\n",
        "    sum = sum + n\n",
        "    n= n-1\n",
        "print (\"sum using while loop \", sum)"
      ],
      "execution_count": 16,
      "outputs": [
        {
          "output_type": "stream",
          "text": [
            "Enter the value of n: 25\n",
            "25\n",
            "sum using while loop  325\n"
          ],
          "name": "stdout"
        }
      ]
    },
    {
      "cell_type": "markdown",
      "metadata": {
        "id": "tg4d2n3ZFtrS",
        "colab_type": "text"
      },
      "source": [
        "Q2: **Take an integer and find whether it is prime or not**"
      ]
    },
    {
      "cell_type": "code",
      "metadata": {
        "id": "RNY1xd1iF262",
        "colab_type": "code",
        "colab": {
          "base_uri": "https://localhost:8080/",
          "height": 68
        },
        "outputId": "e274bbac-e28d-4db3-c80e-aacc093b0ec8"
      },
      "source": [
        "n = int(input(\"Enter an integer: \"))\n",
        "print(n)\n",
        "for i in range(2,n):\n",
        "  if (n % i)== 0:\n",
        "    print(\"Not a prime number\")\n",
        "    break\n",
        "else:\n",
        "    print(\"It is a prime number\")"
      ],
      "execution_count": 38,
      "outputs": [
        {
          "output_type": "stream",
          "text": [
            "Enter an integer: 7\n",
            "7\n",
            "It is a prime number\n"
          ],
          "name": "stdout"
        }
      ]
    }
  ]
}