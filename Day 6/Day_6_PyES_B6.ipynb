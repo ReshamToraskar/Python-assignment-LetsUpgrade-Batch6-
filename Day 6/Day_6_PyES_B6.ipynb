{
  "nbformat": 4,
  "nbformat_minor": 0,
  "metadata": {
    "colab": {
      "name": "Day 6 PyES B6.ipynb",
      "provenance": [],
      "collapsed_sections": []
    },
    "kernelspec": {
      "name": "python3",
      "display_name": "Python 3"
    }
  },
  "cells": [
    {
      "cell_type": "markdown",
      "metadata": {
        "id": "6_Z7lihEv9eh",
        "colab_type": "text"
      },
      "source": [
        "**Day 6 Assignment:**\n",
        "**list1 = [1,2,3,4,5,6,7,8]\n",
        "list2 = [\"a\",\"b\",\"c\",\"d\",\"e\"]\n",
        "convert to a Dictionary in one line code using list comprehension (Without using zip method)**"
      ]
    },
    {
      "cell_type": "code",
      "metadata": {
        "id": "HGst2h0y7oex",
        "colab_type": "code",
        "colab": {
          "base_uri": "https://localhost:8080/",
          "height": 34
        },
        "outputId": "2777a21e-a502-400d-9241-590ed847b31f"
      },
      "source": [
        "list1=[1,2,3,4,5]\n",
        "list2=['a','b','c','d','e']\n",
        "dict1 = {list1[i]: value for list1[i], value in enumerate(list2)}\n",
        "print(dict1) "
      ],
      "execution_count": 54,
      "outputs": [
        {
          "output_type": "stream",
          "text": [
            "{0: 'a', 1: 'b', 2: 'c', 3: 'd', 4: 'e'}\n"
          ],
          "name": "stdout"
        }
      ]
    }
  ]
}